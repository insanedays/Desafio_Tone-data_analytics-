{
  "nbformat": 4,
  "nbformat_minor": 0,
  "metadata": {
    "colab": {
      "name": "Desafio_TONE",
      "provenance": [],
      "mount_file_id": "1ImP2nvYaaHFEisCh47bcGw8AAb50NJyY",
      "authorship_tag": "ABX9TyPn/3+UX9c05emaAWRuSwY5",
      "include_colab_link": true
    },
    "kernelspec": {
      "name": "python3",
      "display_name": "Python 3"
    }
  },
  "cells": [
    {
      "cell_type": "markdown",
      "metadata": {
        "id": "view-in-github",
        "colab_type": "text"
      },
      "source": [
        "<a href=\"https://colab.research.google.com/github/insanedays/Desafio_Tone-data_analytics-/blob/master/Desafio_TONE.ipynb\" target=\"_parent\"><img src=\"https://colab.research.google.com/assets/colab-badge.svg\" alt=\"Open In Colab\"/></a>"
      ]
    },
    {
      "cell_type": "markdown",
      "metadata": {
        "id": "HO1YbRnzCcqQ"
      },
      "source": [
        "### Importando Blibliotecas"
      ]
    },
    {
      "cell_type": "code",
      "metadata": {
        "id": "Sm8QG0Tf1lAE"
      },
      "source": [
        "import pandas as pd\r\n",
        "import numpy as np\r\n",
        "import datetime as datetime\r\n",
        "import matplotlib.pyplot as plt\r\n"
      ],
      "execution_count": 243,
      "outputs": []
    },
    {
      "cell_type": "markdown",
      "metadata": {
        "id": "mcOoo1TLCiqF"
      },
      "source": [
        "### Criando DataFrame"
      ]
    },
    {
      "cell_type": "code",
      "metadata": {
        "colab": {
          "base_uri": "https://localhost:8080/",
          "height": 424
        },
        "id": "uxQ3L3zn3w_S",
        "outputId": "f2ad1aa6-cd3e-49a3-d32e-d89069900666"
      },
      "source": [
        "creds = pd.read_csv(\"/content/drive/MyDrive/Desafios - Empresas/TONE/creds (2).csv\", sep=\",\")\r\n",
        "creds\r\n"
      ],
      "execution_count": 194,
      "outputs": [
        {
          "output_type": "execute_result",
          "data": {
            "text/html": [
              "<div>\n",
              "<style scoped>\n",
              "    .dataframe tbody tr th:only-of-type {\n",
              "        vertical-align: middle;\n",
              "    }\n",
              "\n",
              "    .dataframe tbody tr th {\n",
              "        vertical-align: top;\n",
              "    }\n",
              "\n",
              "    .dataframe thead th {\n",
              "        text-align: right;\n",
              "    }\n",
              "</style>\n",
              "<table border=\"1\" class=\"dataframe\">\n",
              "  <thead>\n",
              "    <tr style=\"text-align: right;\">\n",
              "      <th></th>\n",
              "      <th>Unnamed: 0</th>\n",
              "      <th>cred_date</th>\n",
              "      <th>shipping_address_city</th>\n",
              "      <th>shipping_address_state</th>\n",
              "      <th>max_machine</th>\n",
              "      <th>accountid</th>\n",
              "    </tr>\n",
              "  </thead>\n",
              "  <tbody>\n",
              "    <tr>\n",
              "      <th>0</th>\n",
              "      <td>0</td>\n",
              "      <td>2020-04-18</td>\n",
              "      <td>Feira de Santana</td>\n",
              "      <td>BA</td>\n",
              "      <td>T1</td>\n",
              "      <td>NaN</td>\n",
              "    </tr>\n",
              "    <tr>\n",
              "      <th>1</th>\n",
              "      <td>1</td>\n",
              "      <td>2020-10-16</td>\n",
              "      <td>Bacuri</td>\n",
              "      <td>MA</td>\n",
              "      <td>T1</td>\n",
              "      <td>NaN</td>\n",
              "    </tr>\n",
              "    <tr>\n",
              "      <th>2</th>\n",
              "      <td>2</td>\n",
              "      <td>2020-09-01</td>\n",
              "      <td>Bernardo Sayão</td>\n",
              "      <td>TO</td>\n",
              "      <td>T1</td>\n",
              "      <td>NaN</td>\n",
              "    </tr>\n",
              "    <tr>\n",
              "      <th>3</th>\n",
              "      <td>3</td>\n",
              "      <td>2020-08-29</td>\n",
              "      <td>Rio de Janeiro</td>\n",
              "      <td>RJ</td>\n",
              "      <td>T3</td>\n",
              "      <td>NaN</td>\n",
              "    </tr>\n",
              "    <tr>\n",
              "      <th>4</th>\n",
              "      <td>4</td>\n",
              "      <td>2020-07-28</td>\n",
              "      <td>São Gonçalo</td>\n",
              "      <td>RJ</td>\n",
              "      <td>T3</td>\n",
              "      <td>0013j00002z0CeEAAU</td>\n",
              "    </tr>\n",
              "    <tr>\n",
              "      <th>...</th>\n",
              "      <td>...</td>\n",
              "      <td>...</td>\n",
              "      <td>...</td>\n",
              "      <td>...</td>\n",
              "      <td>...</td>\n",
              "      <td>...</td>\n",
              "    </tr>\n",
              "    <tr>\n",
              "      <th>126984</th>\n",
              "      <td>126984</td>\n",
              "      <td>2020-06-20</td>\n",
              "      <td>Petrópolis</td>\n",
              "      <td>RJ</td>\n",
              "      <td>T2</td>\n",
              "      <td>0013j00002yi49FAAQ</td>\n",
              "    </tr>\n",
              "    <tr>\n",
              "      <th>126985</th>\n",
              "      <td>126985</td>\n",
              "      <td>2020-06-20</td>\n",
              "      <td>Petrópolis</td>\n",
              "      <td>RJ</td>\n",
              "      <td>T2</td>\n",
              "      <td>0013j00002yi49FAAQ</td>\n",
              "    </tr>\n",
              "    <tr>\n",
              "      <th>126986</th>\n",
              "      <td>126986</td>\n",
              "      <td>2020-06-20</td>\n",
              "      <td>Petrópolis</td>\n",
              "      <td>RJ</td>\n",
              "      <td>T2</td>\n",
              "      <td>0013j00002yi49FAAQ</td>\n",
              "    </tr>\n",
              "    <tr>\n",
              "      <th>126987</th>\n",
              "      <td>126987</td>\n",
              "      <td>2020-06-20</td>\n",
              "      <td>Petrópolis</td>\n",
              "      <td>RJ</td>\n",
              "      <td>T2</td>\n",
              "      <td>0013j00002yi49FAAQ</td>\n",
              "    </tr>\n",
              "    <tr>\n",
              "      <th>126988</th>\n",
              "      <td>126988</td>\n",
              "      <td>2020-06-20</td>\n",
              "      <td>Petrópolis</td>\n",
              "      <td>RJ</td>\n",
              "      <td>T2</td>\n",
              "      <td>0013j00002yi49FAAQ</td>\n",
              "    </tr>\n",
              "  </tbody>\n",
              "</table>\n",
              "<p>126989 rows × 6 columns</p>\n",
              "</div>"
            ],
            "text/plain": [
              "        Unnamed: 0   cred_date  ... max_machine           accountid\n",
              "0                0  2020-04-18  ...          T1                 NaN\n",
              "1                1  2020-10-16  ...          T1                 NaN\n",
              "2                2  2020-09-01  ...          T1                 NaN\n",
              "3                3  2020-08-29  ...          T3                 NaN\n",
              "4                4  2020-07-28  ...          T3  0013j00002z0CeEAAU\n",
              "...            ...         ...  ...         ...                 ...\n",
              "126984      126984  2020-06-20  ...          T2  0013j00002yi49FAAQ\n",
              "126985      126985  2020-06-20  ...          T2  0013j00002yi49FAAQ\n",
              "126986      126986  2020-06-20  ...          T2  0013j00002yi49FAAQ\n",
              "126987      126987  2020-06-20  ...          T2  0013j00002yi49FAAQ\n",
              "126988      126988  2020-06-20  ...          T2  0013j00002yi49FAAQ\n",
              "\n",
              "[126989 rows x 6 columns]"
            ]
          },
          "metadata": {
            "tags": []
          },
          "execution_count": 194
        }
      ]
    },
    {
      "cell_type": "code",
      "metadata": {
        "id": "hag08WD43F34"
      },
      "source": [
        "cases = pd.read_csv(\"/content/drive/MyDrive/Desafios - Empresas/TONE/cases (2).csv\", sep=\",\")"
      ],
      "execution_count": 195,
      "outputs": []
    },
    {
      "cell_type": "code",
      "metadata": {
        "colab": {
          "base_uri": "https://localhost:8080/",
          "height": 424
        },
        "id": "sMRA5_T025wB",
        "outputId": "ecb5eeea-8ed3-4ad4-b049-ff6536b9af11"
      },
      "source": [
        "cases"
      ],
      "execution_count": 196,
      "outputs": [
        {
          "output_type": "execute_result",
          "data": {
            "text/html": [
              "<div>\n",
              "<style scoped>\n",
              "    .dataframe tbody tr th:only-of-type {\n",
              "        vertical-align: middle;\n",
              "    }\n",
              "\n",
              "    .dataframe tbody tr th {\n",
              "        vertical-align: top;\n",
              "    }\n",
              "\n",
              "    .dataframe thead th {\n",
              "        text-align: right;\n",
              "    }\n",
              "</style>\n",
              "<table border=\"1\" class=\"dataframe\">\n",
              "  <thead>\n",
              "    <tr style=\"text-align: right;\">\n",
              "      <th></th>\n",
              "      <th>Unnamed: 0</th>\n",
              "      <th>accountid</th>\n",
              "      <th>date_ref</th>\n",
              "      <th>channelid</th>\n",
              "      <th>waitingtime</th>\n",
              "      <th>missed</th>\n",
              "      <th>pesquisa_de_satisfa_o__c</th>\n",
              "      <th>assunto</th>\n",
              "      <th>Id</th>\n",
              "    </tr>\n",
              "  </thead>\n",
              "  <tbody>\n",
              "    <tr>\n",
              "      <th>0</th>\n",
              "      <td>0</td>\n",
              "      <td>NaN</td>\n",
              "      <td>NaN</td>\n",
              "      <td>NaN</td>\n",
              "      <td>NaN</td>\n",
              "      <td>NaN</td>\n",
              "      <td>NaN</td>\n",
              "      <td>NaN</td>\n",
              "      <td>NaN</td>\n",
              "    </tr>\n",
              "    <tr>\n",
              "      <th>1</th>\n",
              "      <td>1</td>\n",
              "      <td>NaN</td>\n",
              "      <td>NaN</td>\n",
              "      <td>NaN</td>\n",
              "      <td>NaN</td>\n",
              "      <td>NaN</td>\n",
              "      <td>NaN</td>\n",
              "      <td>NaN</td>\n",
              "      <td>NaN</td>\n",
              "    </tr>\n",
              "    <tr>\n",
              "      <th>2</th>\n",
              "      <td>2</td>\n",
              "      <td>NaN</td>\n",
              "      <td>NaN</td>\n",
              "      <td>NaN</td>\n",
              "      <td>NaN</td>\n",
              "      <td>NaN</td>\n",
              "      <td>NaN</td>\n",
              "      <td>NaN</td>\n",
              "      <td>NaN</td>\n",
              "    </tr>\n",
              "    <tr>\n",
              "      <th>3</th>\n",
              "      <td>3</td>\n",
              "      <td>NaN</td>\n",
              "      <td>NaN</td>\n",
              "      <td>NaN</td>\n",
              "      <td>NaN</td>\n",
              "      <td>NaN</td>\n",
              "      <td>NaN</td>\n",
              "      <td>NaN</td>\n",
              "      <td>NaN</td>\n",
              "    </tr>\n",
              "    <tr>\n",
              "      <th>4</th>\n",
              "      <td>4</td>\n",
              "      <td>0013j00002z0CeEAAU</td>\n",
              "      <td>2020-07-31</td>\n",
              "      <td>2.0</td>\n",
              "      <td>15.0</td>\n",
              "      <td>False</td>\n",
              "      <td>NaN</td>\n",
              "      <td>Aplicativo:Dúvidas funcionalidades App:Primeir...</td>\n",
              "      <td>0013j00002z0CeEAAU</td>\n",
              "    </tr>\n",
              "    <tr>\n",
              "      <th>...</th>\n",
              "      <td>...</td>\n",
              "      <td>...</td>\n",
              "      <td>...</td>\n",
              "      <td>...</td>\n",
              "      <td>...</td>\n",
              "      <td>...</td>\n",
              "      <td>...</td>\n",
              "      <td>...</td>\n",
              "      <td>...</td>\n",
              "    </tr>\n",
              "    <tr>\n",
              "      <th>126984</th>\n",
              "      <td>126984</td>\n",
              "      <td>0013j00002yi49FAAQ</td>\n",
              "      <td>2020-08-26</td>\n",
              "      <td>2.0</td>\n",
              "      <td>9.0</td>\n",
              "      <td>False</td>\n",
              "      <td>NaN</td>\n",
              "      <td>Aplicativo:Dúvidas funcionalidades App:Prazos ...</td>\n",
              "      <td>0013j00002yi49FAAQ</td>\n",
              "    </tr>\n",
              "    <tr>\n",
              "      <th>126985</th>\n",
              "      <td>126985</td>\n",
              "      <td>0013j00002yi49FAAQ</td>\n",
              "      <td>2020-09-09</td>\n",
              "      <td>2.0</td>\n",
              "      <td>4.0</td>\n",
              "      <td>False</td>\n",
              "      <td>NaN</td>\n",
              "      <td>Produto:D195:Ativação</td>\n",
              "      <td>0013j00002yi49FAAQ</td>\n",
              "    </tr>\n",
              "    <tr>\n",
              "      <th>126986</th>\n",
              "      <td>126986</td>\n",
              "      <td>0013j00002yi49FAAQ</td>\n",
              "      <td>2020-09-21</td>\n",
              "      <td>2.0</td>\n",
              "      <td>3.0</td>\n",
              "      <td>False</td>\n",
              "      <td>NaN</td>\n",
              "      <td>Cadastro:Recredenciamento:Dúvidas</td>\n",
              "      <td>0013j00002yi49FAAQ</td>\n",
              "    </tr>\n",
              "    <tr>\n",
              "      <th>126987</th>\n",
              "      <td>126987</td>\n",
              "      <td>0013j00002yi49FAAQ</td>\n",
              "      <td>2020-09-21</td>\n",
              "      <td>2.0</td>\n",
              "      <td>3.0</td>\n",
              "      <td>False</td>\n",
              "      <td>NaN</td>\n",
              "      <td>Produto:Cartão pré-pago:Dúvidas</td>\n",
              "      <td>0013j00002yi49FAAQ</td>\n",
              "    </tr>\n",
              "    <tr>\n",
              "      <th>126988</th>\n",
              "      <td>126988</td>\n",
              "      <td>0013j00002yi49FAAQ</td>\n",
              "      <td>2020-09-29</td>\n",
              "      <td>2.0</td>\n",
              "      <td>3.0</td>\n",
              "      <td>False</td>\n",
              "      <td>NaN</td>\n",
              "      <td>Logística:Gestão de equipamentos:</td>\n",
              "      <td>0013j00002yi49FAAQ</td>\n",
              "    </tr>\n",
              "  </tbody>\n",
              "</table>\n",
              "<p>126989 rows × 9 columns</p>\n",
              "</div>"
            ],
            "text/plain": [
              "        Unnamed: 0  ...                  Id\n",
              "0                0  ...                 NaN\n",
              "1                1  ...                 NaN\n",
              "2                2  ...                 NaN\n",
              "3                3  ...                 NaN\n",
              "4                4  ...  0013j00002z0CeEAAU\n",
              "...            ...  ...                 ...\n",
              "126984      126984  ...  0013j00002yi49FAAQ\n",
              "126985      126985  ...  0013j00002yi49FAAQ\n",
              "126986      126986  ...  0013j00002yi49FAAQ\n",
              "126987      126987  ...  0013j00002yi49FAAQ\n",
              "126988      126988  ...  0013j00002yi49FAAQ\n",
              "\n",
              "[126989 rows x 9 columns]"
            ]
          },
          "metadata": {
            "tags": []
          },
          "execution_count": 196
        }
      ]
    },
    {
      "cell_type": "code",
      "metadata": {
        "colab": {
          "base_uri": "https://localhost:8080/",
          "height": 496
        },
        "id": "4H8bQ_SH4ZFM",
        "outputId": "3aa3e06e-e55e-4bfa-b915-7241f3bca383"
      },
      "source": [
        "#unindo dataframes\r\n",
        "dataframe = pd.merge(creds,cases)\r\n",
        "dataframe"
      ],
      "execution_count": 197,
      "outputs": [
        {
          "output_type": "execute_result",
          "data": {
            "text/html": [
              "<div>\n",
              "<style scoped>\n",
              "    .dataframe tbody tr th:only-of-type {\n",
              "        vertical-align: middle;\n",
              "    }\n",
              "\n",
              "    .dataframe tbody tr th {\n",
              "        vertical-align: top;\n",
              "    }\n",
              "\n",
              "    .dataframe thead th {\n",
              "        text-align: right;\n",
              "    }\n",
              "</style>\n",
              "<table border=\"1\" class=\"dataframe\">\n",
              "  <thead>\n",
              "    <tr style=\"text-align: right;\">\n",
              "      <th></th>\n",
              "      <th>Unnamed: 0</th>\n",
              "      <th>cred_date</th>\n",
              "      <th>shipping_address_city</th>\n",
              "      <th>shipping_address_state</th>\n",
              "      <th>max_machine</th>\n",
              "      <th>accountid</th>\n",
              "      <th>date_ref</th>\n",
              "      <th>channelid</th>\n",
              "      <th>waitingtime</th>\n",
              "      <th>missed</th>\n",
              "      <th>pesquisa_de_satisfa_o__c</th>\n",
              "      <th>assunto</th>\n",
              "      <th>Id</th>\n",
              "    </tr>\n",
              "  </thead>\n",
              "  <tbody>\n",
              "    <tr>\n",
              "      <th>0</th>\n",
              "      <td>0</td>\n",
              "      <td>2020-04-18</td>\n",
              "      <td>Feira de Santana</td>\n",
              "      <td>BA</td>\n",
              "      <td>T1</td>\n",
              "      <td>NaN</td>\n",
              "      <td>NaN</td>\n",
              "      <td>NaN</td>\n",
              "      <td>NaN</td>\n",
              "      <td>NaN</td>\n",
              "      <td>NaN</td>\n",
              "      <td>NaN</td>\n",
              "      <td>NaN</td>\n",
              "    </tr>\n",
              "    <tr>\n",
              "      <th>1</th>\n",
              "      <td>1</td>\n",
              "      <td>2020-10-16</td>\n",
              "      <td>Bacuri</td>\n",
              "      <td>MA</td>\n",
              "      <td>T1</td>\n",
              "      <td>NaN</td>\n",
              "      <td>NaN</td>\n",
              "      <td>NaN</td>\n",
              "      <td>NaN</td>\n",
              "      <td>NaN</td>\n",
              "      <td>NaN</td>\n",
              "      <td>NaN</td>\n",
              "      <td>NaN</td>\n",
              "    </tr>\n",
              "    <tr>\n",
              "      <th>2</th>\n",
              "      <td>2</td>\n",
              "      <td>2020-09-01</td>\n",
              "      <td>Bernardo Sayão</td>\n",
              "      <td>TO</td>\n",
              "      <td>T1</td>\n",
              "      <td>NaN</td>\n",
              "      <td>NaN</td>\n",
              "      <td>NaN</td>\n",
              "      <td>NaN</td>\n",
              "      <td>NaN</td>\n",
              "      <td>NaN</td>\n",
              "      <td>NaN</td>\n",
              "      <td>NaN</td>\n",
              "    </tr>\n",
              "    <tr>\n",
              "      <th>3</th>\n",
              "      <td>3</td>\n",
              "      <td>2020-08-29</td>\n",
              "      <td>Rio de Janeiro</td>\n",
              "      <td>RJ</td>\n",
              "      <td>T3</td>\n",
              "      <td>NaN</td>\n",
              "      <td>NaN</td>\n",
              "      <td>NaN</td>\n",
              "      <td>NaN</td>\n",
              "      <td>NaN</td>\n",
              "      <td>NaN</td>\n",
              "      <td>NaN</td>\n",
              "      <td>NaN</td>\n",
              "    </tr>\n",
              "    <tr>\n",
              "      <th>4</th>\n",
              "      <td>4</td>\n",
              "      <td>2020-07-28</td>\n",
              "      <td>São Gonçalo</td>\n",
              "      <td>RJ</td>\n",
              "      <td>T3</td>\n",
              "      <td>0013j00002z0CeEAAU</td>\n",
              "      <td>2020-07-31</td>\n",
              "      <td>2.0</td>\n",
              "      <td>15.0</td>\n",
              "      <td>False</td>\n",
              "      <td>NaN</td>\n",
              "      <td>Aplicativo:Dúvidas funcionalidades App:Primeir...</td>\n",
              "      <td>0013j00002z0CeEAAU</td>\n",
              "    </tr>\n",
              "    <tr>\n",
              "      <th>...</th>\n",
              "      <td>...</td>\n",
              "      <td>...</td>\n",
              "      <td>...</td>\n",
              "      <td>...</td>\n",
              "      <td>...</td>\n",
              "      <td>...</td>\n",
              "      <td>...</td>\n",
              "      <td>...</td>\n",
              "      <td>...</td>\n",
              "      <td>...</td>\n",
              "      <td>...</td>\n",
              "      <td>...</td>\n",
              "      <td>...</td>\n",
              "    </tr>\n",
              "    <tr>\n",
              "      <th>126984</th>\n",
              "      <td>126984</td>\n",
              "      <td>2020-06-20</td>\n",
              "      <td>Petrópolis</td>\n",
              "      <td>RJ</td>\n",
              "      <td>T2</td>\n",
              "      <td>0013j00002yi49FAAQ</td>\n",
              "      <td>2020-08-26</td>\n",
              "      <td>2.0</td>\n",
              "      <td>9.0</td>\n",
              "      <td>False</td>\n",
              "      <td>NaN</td>\n",
              "      <td>Aplicativo:Dúvidas funcionalidades App:Prazos ...</td>\n",
              "      <td>0013j00002yi49FAAQ</td>\n",
              "    </tr>\n",
              "    <tr>\n",
              "      <th>126985</th>\n",
              "      <td>126985</td>\n",
              "      <td>2020-06-20</td>\n",
              "      <td>Petrópolis</td>\n",
              "      <td>RJ</td>\n",
              "      <td>T2</td>\n",
              "      <td>0013j00002yi49FAAQ</td>\n",
              "      <td>2020-09-09</td>\n",
              "      <td>2.0</td>\n",
              "      <td>4.0</td>\n",
              "      <td>False</td>\n",
              "      <td>NaN</td>\n",
              "      <td>Produto:D195:Ativação</td>\n",
              "      <td>0013j00002yi49FAAQ</td>\n",
              "    </tr>\n",
              "    <tr>\n",
              "      <th>126986</th>\n",
              "      <td>126986</td>\n",
              "      <td>2020-06-20</td>\n",
              "      <td>Petrópolis</td>\n",
              "      <td>RJ</td>\n",
              "      <td>T2</td>\n",
              "      <td>0013j00002yi49FAAQ</td>\n",
              "      <td>2020-09-21</td>\n",
              "      <td>2.0</td>\n",
              "      <td>3.0</td>\n",
              "      <td>False</td>\n",
              "      <td>NaN</td>\n",
              "      <td>Cadastro:Recredenciamento:Dúvidas</td>\n",
              "      <td>0013j00002yi49FAAQ</td>\n",
              "    </tr>\n",
              "    <tr>\n",
              "      <th>126987</th>\n",
              "      <td>126987</td>\n",
              "      <td>2020-06-20</td>\n",
              "      <td>Petrópolis</td>\n",
              "      <td>RJ</td>\n",
              "      <td>T2</td>\n",
              "      <td>0013j00002yi49FAAQ</td>\n",
              "      <td>2020-09-21</td>\n",
              "      <td>2.0</td>\n",
              "      <td>3.0</td>\n",
              "      <td>False</td>\n",
              "      <td>NaN</td>\n",
              "      <td>Produto:Cartão pré-pago:Dúvidas</td>\n",
              "      <td>0013j00002yi49FAAQ</td>\n",
              "    </tr>\n",
              "    <tr>\n",
              "      <th>126988</th>\n",
              "      <td>126988</td>\n",
              "      <td>2020-06-20</td>\n",
              "      <td>Petrópolis</td>\n",
              "      <td>RJ</td>\n",
              "      <td>T2</td>\n",
              "      <td>0013j00002yi49FAAQ</td>\n",
              "      <td>2020-09-29</td>\n",
              "      <td>2.0</td>\n",
              "      <td>3.0</td>\n",
              "      <td>False</td>\n",
              "      <td>NaN</td>\n",
              "      <td>Logística:Gestão de equipamentos:</td>\n",
              "      <td>0013j00002yi49FAAQ</td>\n",
              "    </tr>\n",
              "  </tbody>\n",
              "</table>\n",
              "<p>126989 rows × 13 columns</p>\n",
              "</div>"
            ],
            "text/plain": [
              "        Unnamed: 0  ...                  Id\n",
              "0                0  ...                 NaN\n",
              "1                1  ...                 NaN\n",
              "2                2  ...                 NaN\n",
              "3                3  ...                 NaN\n",
              "4                4  ...  0013j00002z0CeEAAU\n",
              "...            ...  ...                 ...\n",
              "126984      126984  ...  0013j00002yi49FAAQ\n",
              "126985      126985  ...  0013j00002yi49FAAQ\n",
              "126986      126986  ...  0013j00002yi49FAAQ\n",
              "126987      126987  ...  0013j00002yi49FAAQ\n",
              "126988      126988  ...  0013j00002yi49FAAQ\n",
              "\n",
              "[126989 rows x 13 columns]"
            ]
          },
          "metadata": {
            "tags": []
          },
          "execution_count": 197
        }
      ]
    },
    {
      "cell_type": "markdown",
      "metadata": {
        "id": "5YjmECJTCs-g"
      },
      "source": [
        "### Tratamento"
      ]
    },
    {
      "cell_type": "code",
      "metadata": {
        "colab": {
          "base_uri": "https://localhost:8080/",
          "height": 112
        },
        "id": "CbbZ1St9G5TC",
        "outputId": "99debe51-dc77-4018-82a6-013eb8b8f48b"
      },
      "source": [
        "#removendo colunas\r\n",
        "\r\n",
        "dataframe = dataframe.drop(columns=['Id','Unnamed: 0','accountid', 'Id'])\r\n",
        "\r\n",
        "\r\n",
        "dataframe.head(2)"
      ],
      "execution_count": 198,
      "outputs": [
        {
          "output_type": "execute_result",
          "data": {
            "text/html": [
              "<div>\n",
              "<style scoped>\n",
              "    .dataframe tbody tr th:only-of-type {\n",
              "        vertical-align: middle;\n",
              "    }\n",
              "\n",
              "    .dataframe tbody tr th {\n",
              "        vertical-align: top;\n",
              "    }\n",
              "\n",
              "    .dataframe thead th {\n",
              "        text-align: right;\n",
              "    }\n",
              "</style>\n",
              "<table border=\"1\" class=\"dataframe\">\n",
              "  <thead>\n",
              "    <tr style=\"text-align: right;\">\n",
              "      <th></th>\n",
              "      <th>cred_date</th>\n",
              "      <th>shipping_address_city</th>\n",
              "      <th>shipping_address_state</th>\n",
              "      <th>max_machine</th>\n",
              "      <th>date_ref</th>\n",
              "      <th>channelid</th>\n",
              "      <th>waitingtime</th>\n",
              "      <th>missed</th>\n",
              "      <th>pesquisa_de_satisfa_o__c</th>\n",
              "      <th>assunto</th>\n",
              "    </tr>\n",
              "  </thead>\n",
              "  <tbody>\n",
              "    <tr>\n",
              "      <th>0</th>\n",
              "      <td>2020-04-18</td>\n",
              "      <td>Feira de Santana</td>\n",
              "      <td>BA</td>\n",
              "      <td>T1</td>\n",
              "      <td>NaN</td>\n",
              "      <td>NaN</td>\n",
              "      <td>NaN</td>\n",
              "      <td>NaN</td>\n",
              "      <td>NaN</td>\n",
              "      <td>NaN</td>\n",
              "    </tr>\n",
              "    <tr>\n",
              "      <th>1</th>\n",
              "      <td>2020-10-16</td>\n",
              "      <td>Bacuri</td>\n",
              "      <td>MA</td>\n",
              "      <td>T1</td>\n",
              "      <td>NaN</td>\n",
              "      <td>NaN</td>\n",
              "      <td>NaN</td>\n",
              "      <td>NaN</td>\n",
              "      <td>NaN</td>\n",
              "      <td>NaN</td>\n",
              "    </tr>\n",
              "  </tbody>\n",
              "</table>\n",
              "</div>"
            ],
            "text/plain": [
              "    cred_date shipping_address_city  ... pesquisa_de_satisfa_o__c assunto\n",
              "0  2020-04-18      Feira de Santana  ...                      NaN     NaN\n",
              "1  2020-10-16                Bacuri  ...                      NaN     NaN\n",
              "\n",
              "[2 rows x 10 columns]"
            ]
          },
          "metadata": {
            "tags": []
          },
          "execution_count": 198
        }
      ]
    },
    {
      "cell_type": "code",
      "metadata": {
        "id": "p-c38qlnGGw2"
      },
      "source": [
        "#renomenado colunas para facilitar visualização\r\n",
        "dataframe = dataframe.rename(columns={'date_ref': 'chamado_date', 'channelid':'canal_chamado', 'waitingtime':'time_seg', 'pesquisa_de_satisfa_o__c':'pesquisa', 'shipping_address_city':\"cidade_entrega\", 'shipping_address_state':'estado_entrega','max_machine':'produto'})"
      ],
      "execution_count": 199,
      "outputs": []
    },
    {
      "cell_type": "code",
      "metadata": {
        "colab": {
          "base_uri": "https://localhost:8080/",
          "height": 677
        },
        "id": "kNS9JW1lO2k_",
        "outputId": "3e3a7637-a69d-4e3f-c1d4-3a2d7b9bf773"
      },
      "source": [
        "dataframe.head(20)"
      ],
      "execution_count": 200,
      "outputs": [
        {
          "output_type": "execute_result",
          "data": {
            "text/html": [
              "<div>\n",
              "<style scoped>\n",
              "    .dataframe tbody tr th:only-of-type {\n",
              "        vertical-align: middle;\n",
              "    }\n",
              "\n",
              "    .dataframe tbody tr th {\n",
              "        vertical-align: top;\n",
              "    }\n",
              "\n",
              "    .dataframe thead th {\n",
              "        text-align: right;\n",
              "    }\n",
              "</style>\n",
              "<table border=\"1\" class=\"dataframe\">\n",
              "  <thead>\n",
              "    <tr style=\"text-align: right;\">\n",
              "      <th></th>\n",
              "      <th>cred_date</th>\n",
              "      <th>cidade_entrega</th>\n",
              "      <th>estado_entrega</th>\n",
              "      <th>produto</th>\n",
              "      <th>chamado_date</th>\n",
              "      <th>canal_chamado</th>\n",
              "      <th>time_seg</th>\n",
              "      <th>missed</th>\n",
              "      <th>pesquisa</th>\n",
              "      <th>assunto</th>\n",
              "    </tr>\n",
              "  </thead>\n",
              "  <tbody>\n",
              "    <tr>\n",
              "      <th>0</th>\n",
              "      <td>2020-04-18</td>\n",
              "      <td>Feira de Santana</td>\n",
              "      <td>BA</td>\n",
              "      <td>T1</td>\n",
              "      <td>NaN</td>\n",
              "      <td>NaN</td>\n",
              "      <td>NaN</td>\n",
              "      <td>NaN</td>\n",
              "      <td>NaN</td>\n",
              "      <td>NaN</td>\n",
              "    </tr>\n",
              "    <tr>\n",
              "      <th>1</th>\n",
              "      <td>2020-10-16</td>\n",
              "      <td>Bacuri</td>\n",
              "      <td>MA</td>\n",
              "      <td>T1</td>\n",
              "      <td>NaN</td>\n",
              "      <td>NaN</td>\n",
              "      <td>NaN</td>\n",
              "      <td>NaN</td>\n",
              "      <td>NaN</td>\n",
              "      <td>NaN</td>\n",
              "    </tr>\n",
              "    <tr>\n",
              "      <th>2</th>\n",
              "      <td>2020-09-01</td>\n",
              "      <td>Bernardo Sayão</td>\n",
              "      <td>TO</td>\n",
              "      <td>T1</td>\n",
              "      <td>NaN</td>\n",
              "      <td>NaN</td>\n",
              "      <td>NaN</td>\n",
              "      <td>NaN</td>\n",
              "      <td>NaN</td>\n",
              "      <td>NaN</td>\n",
              "    </tr>\n",
              "    <tr>\n",
              "      <th>3</th>\n",
              "      <td>2020-08-29</td>\n",
              "      <td>Rio de Janeiro</td>\n",
              "      <td>RJ</td>\n",
              "      <td>T3</td>\n",
              "      <td>NaN</td>\n",
              "      <td>NaN</td>\n",
              "      <td>NaN</td>\n",
              "      <td>NaN</td>\n",
              "      <td>NaN</td>\n",
              "      <td>NaN</td>\n",
              "    </tr>\n",
              "    <tr>\n",
              "      <th>4</th>\n",
              "      <td>2020-07-28</td>\n",
              "      <td>São Gonçalo</td>\n",
              "      <td>RJ</td>\n",
              "      <td>T3</td>\n",
              "      <td>2020-07-31</td>\n",
              "      <td>2.0</td>\n",
              "      <td>15.0</td>\n",
              "      <td>False</td>\n",
              "      <td>NaN</td>\n",
              "      <td>Aplicativo:Dúvidas funcionalidades App:Primeir...</td>\n",
              "    </tr>\n",
              "    <tr>\n",
              "      <th>5</th>\n",
              "      <td>2020-07-28</td>\n",
              "      <td>São Gonçalo</td>\n",
              "      <td>RJ</td>\n",
              "      <td>T3</td>\n",
              "      <td>2020-07-31</td>\n",
              "      <td>2.0</td>\n",
              "      <td>15.0</td>\n",
              "      <td>False</td>\n",
              "      <td>NaN</td>\n",
              "      <td>Produto:S920:Ativação</td>\n",
              "    </tr>\n",
              "    <tr>\n",
              "      <th>6</th>\n",
              "      <td>2020-07-28</td>\n",
              "      <td>São Gonçalo</td>\n",
              "      <td>RJ</td>\n",
              "      <td>T3</td>\n",
              "      <td>2020-09-23</td>\n",
              "      <td>2.0</td>\n",
              "      <td>1.0</td>\n",
              "      <td>False</td>\n",
              "      <td>NaN</td>\n",
              "      <td>Produto:Cartão pré-pago:Dúvidas</td>\n",
              "    </tr>\n",
              "    <tr>\n",
              "      <th>7</th>\n",
              "      <td>2020-08-28</td>\n",
              "      <td>Itaboraí</td>\n",
              "      <td>RJ</td>\n",
              "      <td>T1</td>\n",
              "      <td>2020-08-29</td>\n",
              "      <td>2.0</td>\n",
              "      <td>6.0</td>\n",
              "      <td>False</td>\n",
              "      <td>NaN</td>\n",
              "      <td>Logística:Envio de Cartão:Tracking</td>\n",
              "    </tr>\n",
              "    <tr>\n",
              "      <th>8</th>\n",
              "      <td>2020-08-28</td>\n",
              "      <td>Itaboraí</td>\n",
              "      <td>RJ</td>\n",
              "      <td>T1</td>\n",
              "      <td>2020-08-29</td>\n",
              "      <td>2.0</td>\n",
              "      <td>6.0</td>\n",
              "      <td>False</td>\n",
              "      <td>NaN</td>\n",
              "      <td>Pedido:Cancelamento:Outros</td>\n",
              "    </tr>\n",
              "    <tr>\n",
              "      <th>9</th>\n",
              "      <td>2020-08-28</td>\n",
              "      <td>Itaboraí</td>\n",
              "      <td>RJ</td>\n",
              "      <td>T1</td>\n",
              "      <td>2020-08-29</td>\n",
              "      <td>2.0</td>\n",
              "      <td>6.0</td>\n",
              "      <td>False</td>\n",
              "      <td>NaN</td>\n",
              "      <td>Produto:Cartão pré-pago:Dúvidas</td>\n",
              "    </tr>\n",
              "    <tr>\n",
              "      <th>10</th>\n",
              "      <td>2020-08-28</td>\n",
              "      <td>Itaboraí</td>\n",
              "      <td>RJ</td>\n",
              "      <td>T1</td>\n",
              "      <td>2020-09-05</td>\n",
              "      <td>2.0</td>\n",
              "      <td>10.0</td>\n",
              "      <td>False</td>\n",
              "      <td>NaN</td>\n",
              "      <td>Aplicativo:Dúvidas funcionalidades App:Redefin...</td>\n",
              "    </tr>\n",
              "    <tr>\n",
              "      <th>11</th>\n",
              "      <td>2020-10-28</td>\n",
              "      <td>Biguaçu</td>\n",
              "      <td>SC</td>\n",
              "      <td>T1</td>\n",
              "      <td>NaN</td>\n",
              "      <td>NaN</td>\n",
              "      <td>NaN</td>\n",
              "      <td>NaN</td>\n",
              "      <td>NaN</td>\n",
              "      <td>NaN</td>\n",
              "    </tr>\n",
              "    <tr>\n",
              "      <th>12</th>\n",
              "      <td>2020-10-27</td>\n",
              "      <td>Contagem</td>\n",
              "      <td>MG</td>\n",
              "      <td>T1</td>\n",
              "      <td>NaN</td>\n",
              "      <td>NaN</td>\n",
              "      <td>NaN</td>\n",
              "      <td>NaN</td>\n",
              "      <td>NaN</td>\n",
              "      <td>NaN</td>\n",
              "    </tr>\n",
              "    <tr>\n",
              "      <th>13</th>\n",
              "      <td>2020-09-01</td>\n",
              "      <td>Videira</td>\n",
              "      <td>SC</td>\n",
              "      <td>T1</td>\n",
              "      <td>NaN</td>\n",
              "      <td>NaN</td>\n",
              "      <td>NaN</td>\n",
              "      <td>NaN</td>\n",
              "      <td>NaN</td>\n",
              "      <td>NaN</td>\n",
              "    </tr>\n",
              "    <tr>\n",
              "      <th>14</th>\n",
              "      <td>2020-09-30</td>\n",
              "      <td>Canela</td>\n",
              "      <td>RS</td>\n",
              "      <td>T1</td>\n",
              "      <td>NaN</td>\n",
              "      <td>NaN</td>\n",
              "      <td>NaN</td>\n",
              "      <td>NaN</td>\n",
              "      <td>NaN</td>\n",
              "      <td>NaN</td>\n",
              "    </tr>\n",
              "    <tr>\n",
              "      <th>15</th>\n",
              "      <td>2020-10-02</td>\n",
              "      <td>Joinville</td>\n",
              "      <td>SC</td>\n",
              "      <td>T1</td>\n",
              "      <td>2020-10-03</td>\n",
              "      <td>2.0</td>\n",
              "      <td>4.0</td>\n",
              "      <td>False</td>\n",
              "      <td>NaN</td>\n",
              "      <td>Aplicativo:Dúvidas funcionalidades App:Prazos ...</td>\n",
              "    </tr>\n",
              "    <tr>\n",
              "      <th>16</th>\n",
              "      <td>2020-10-02</td>\n",
              "      <td>Joinville</td>\n",
              "      <td>SC</td>\n",
              "      <td>T1</td>\n",
              "      <td>2020-10-03</td>\n",
              "      <td>2.0</td>\n",
              "      <td>4.0</td>\n",
              "      <td>False</td>\n",
              "      <td>NaN</td>\n",
              "      <td>Logística:OS:Confirmação/alteração de dados</td>\n",
              "    </tr>\n",
              "    <tr>\n",
              "      <th>17</th>\n",
              "      <td>2020-09-25</td>\n",
              "      <td>Laguna</td>\n",
              "      <td>SC</td>\n",
              "      <td>T1</td>\n",
              "      <td>NaN</td>\n",
              "      <td>NaN</td>\n",
              "      <td>NaN</td>\n",
              "      <td>NaN</td>\n",
              "      <td>NaN</td>\n",
              "      <td>NaN</td>\n",
              "    </tr>\n",
              "    <tr>\n",
              "      <th>18</th>\n",
              "      <td>2019-08-31</td>\n",
              "      <td>Rio de Janeiro</td>\n",
              "      <td>RJ</td>\n",
              "      <td>T1</td>\n",
              "      <td>NaN</td>\n",
              "      <td>NaN</td>\n",
              "      <td>NaN</td>\n",
              "      <td>NaN</td>\n",
              "      <td>NaN</td>\n",
              "      <td>NaN</td>\n",
              "    </tr>\n",
              "    <tr>\n",
              "      <th>19</th>\n",
              "      <td>2020-05-17</td>\n",
              "      <td>Belo Horizonte</td>\n",
              "      <td>MG</td>\n",
              "      <td>T3</td>\n",
              "      <td>NaN</td>\n",
              "      <td>NaN</td>\n",
              "      <td>NaN</td>\n",
              "      <td>NaN</td>\n",
              "      <td>NaN</td>\n",
              "      <td>NaN</td>\n",
              "    </tr>\n",
              "  </tbody>\n",
              "</table>\n",
              "</div>"
            ],
            "text/plain": [
              "     cred_date  ...                                            assunto\n",
              "0   2020-04-18  ...                                                NaN\n",
              "1   2020-10-16  ...                                                NaN\n",
              "2   2020-09-01  ...                                                NaN\n",
              "3   2020-08-29  ...                                                NaN\n",
              "4   2020-07-28  ...  Aplicativo:Dúvidas funcionalidades App:Primeir...\n",
              "5   2020-07-28  ...                              Produto:S920:Ativação\n",
              "6   2020-07-28  ...                    Produto:Cartão pré-pago:Dúvidas\n",
              "7   2020-08-28  ...                 Logística:Envio de Cartão:Tracking\n",
              "8   2020-08-28  ...                         Pedido:Cancelamento:Outros\n",
              "9   2020-08-28  ...                    Produto:Cartão pré-pago:Dúvidas\n",
              "10  2020-08-28  ...  Aplicativo:Dúvidas funcionalidades App:Redefin...\n",
              "11  2020-10-28  ...                                                NaN\n",
              "12  2020-10-27  ...                                                NaN\n",
              "13  2020-09-01  ...                                                NaN\n",
              "14  2020-09-30  ...                                                NaN\n",
              "15  2020-10-02  ...  Aplicativo:Dúvidas funcionalidades App:Prazos ...\n",
              "16  2020-10-02  ...        Logística:OS:Confirmação/alteração de dados\n",
              "17  2020-09-25  ...                                                NaN\n",
              "18  2019-08-31  ...                                                NaN\n",
              "19  2020-05-17  ...                                                NaN\n",
              "\n",
              "[20 rows x 10 columns]"
            ]
          },
          "metadata": {
            "tags": []
          },
          "execution_count": 200
        }
      ]
    },
    {
      "cell_type": "code",
      "metadata": {
        "colab": {
          "base_uri": "https://localhost:8080/"
        },
        "id": "5agvg2wKCIe8",
        "outputId": "a6cb8dbe-0d71-4670-d044-4750a65944db"
      },
      "source": [
        "#identificando dados faltantes\r\n",
        "dataframe.isnull().sum()"
      ],
      "execution_count": 201,
      "outputs": [
        {
          "output_type": "execute_result",
          "data": {
            "text/plain": [
              "cred_date              0\n",
              "cidade_entrega         0\n",
              "estado_entrega         0\n",
              "produto                0\n",
              "chamado_date       49500\n",
              "canal_chamado      49500\n",
              "time_seg           49500\n",
              "missed             49500\n",
              "pesquisa          115404\n",
              "assunto            49500\n",
              "dtype: int64"
            ]
          },
          "metadata": {
            "tags": []
          },
          "execution_count": 201
        }
      ]
    },
    {
      "cell_type": "code",
      "metadata": {
        "id": "uM2RBI7ZbAcN"
      },
      "source": [
        "#linha pra tratar os NaN se houver necessidade"
      ],
      "execution_count": 202,
      "outputs": []
    },
    {
      "cell_type": "code",
      "metadata": {
        "colab": {
          "base_uri": "https://localhost:8080/"
        },
        "id": "1WpitNAEdxEm",
        "outputId": "ef863662-4500-41db-e41f-3d8b18034ba3"
      },
      "source": [
        "dataframe.dtypes"
      ],
      "execution_count": 203,
      "outputs": [
        {
          "output_type": "execute_result",
          "data": {
            "text/plain": [
              "cred_date          object\n",
              "cidade_entrega     object\n",
              "estado_entrega     object\n",
              "produto            object\n",
              "chamado_date       object\n",
              "canal_chamado     float64\n",
              "time_seg          float64\n",
              "missed             object\n",
              "pesquisa           object\n",
              "assunto            object\n",
              "dtype: object"
            ]
          },
          "metadata": {
            "tags": []
          },
          "execution_count": 203
        }
      ]
    },
    {
      "cell_type": "code",
      "metadata": {
        "id": "ME2z8op-GgEw"
      },
      "source": [
        "#transformando em data\r\n",
        "dataframe['chamado_date'] = pd.to_datetime(dataframe['chamado_date'])\r\n",
        "dataframe['cred_date'] = pd.to_datetime(dataframe['cred_date'])\r\n"
      ],
      "execution_count": 216,
      "outputs": []
    },
    {
      "cell_type": "code",
      "metadata": {
        "id": "e2qD3nKcHDYs"
      },
      "source": [
        "#transformando em inteiro\r\n",
        "\r\n",
        "###########dataframe['canal_chamado'].astype(int)\r\n",
        "\r\n",
        "#dataframe['canal_chamado'] = dataframe['canal_chamado'].values.astype(np.int64)\r\n",
        "\r\n"
      ],
      "execution_count": 205,
      "outputs": []
    },
    {
      "cell_type": "code",
      "metadata": {
        "colab": {
          "base_uri": "https://localhost:8080/"
        },
        "id": "ZaIuzF-sLehx",
        "outputId": "40c8c512-430f-4d25-ff48-2f1687ee9444"
      },
      "source": [
        "dataframe['canal_chamado'].dtype\r\n"
      ],
      "execution_count": 206,
      "outputs": [
        {
          "output_type": "execute_result",
          "data": {
            "text/plain": [
              "dtype('float64')"
            ]
          },
          "metadata": {
            "tags": []
          },
          "execution_count": 206
        }
      ]
    },
    {
      "cell_type": "code",
      "metadata": {
        "id": "PklkdGCbG_TI"
      },
      "source": [
        "#transformando em string\r\n",
        "dataframe[['cidade_entrega', 'estado_entrega','produto']] = dataframe[['cidade_entrega', 'estado_entrega','produto']].astype(str)"
      ],
      "execution_count": 207,
      "outputs": []
    },
    {
      "cell_type": "code",
      "metadata": {
        "colab": {
          "base_uri": "https://localhost:8080/"
        },
        "id": "AaknzU09II71",
        "outputId": "ec03ffb2-b387-4c0b-e0a4-29cb4505c257"
      },
      "source": [
        "dataframe.dtypes"
      ],
      "execution_count": 208,
      "outputs": [
        {
          "output_type": "execute_result",
          "data": {
            "text/plain": [
              "cred_date                 object\n",
              "cidade_entrega            object\n",
              "estado_entrega            object\n",
              "produto                   object\n",
              "chamado_date      datetime64[ns]\n",
              "canal_chamado            float64\n",
              "time_seg                 float64\n",
              "missed                    object\n",
              "pesquisa                  object\n",
              "assunto                   object\n",
              "dtype: object"
            ]
          },
          "metadata": {
            "tags": []
          },
          "execution_count": 208
        }
      ]
    },
    {
      "cell_type": "markdown",
      "metadata": {
        "id": "PHc7VcdTIdSG"
      },
      "source": [
        "### Analises Exploratórias"
      ]
    },
    {
      "cell_type": "code",
      "metadata": {
        "colab": {
          "base_uri": "https://localhost:8080/",
          "height": 0
        },
        "id": "b3SQEeWsQ3C9",
        "outputId": "4dce8d8a-70f7-4f30-c6b6-705f9d9fc071"
      },
      "source": [
        "dataframe.head(10)\r\n"
      ],
      "execution_count": 209,
      "outputs": [
        {
          "output_type": "execute_result",
          "data": {
            "text/html": [
              "<div>\n",
              "<style scoped>\n",
              "    .dataframe tbody tr th:only-of-type {\n",
              "        vertical-align: middle;\n",
              "    }\n",
              "\n",
              "    .dataframe tbody tr th {\n",
              "        vertical-align: top;\n",
              "    }\n",
              "\n",
              "    .dataframe thead th {\n",
              "        text-align: right;\n",
              "    }\n",
              "</style>\n",
              "<table border=\"1\" class=\"dataframe\">\n",
              "  <thead>\n",
              "    <tr style=\"text-align: right;\">\n",
              "      <th></th>\n",
              "      <th>cred_date</th>\n",
              "      <th>cidade_entrega</th>\n",
              "      <th>estado_entrega</th>\n",
              "      <th>produto</th>\n",
              "      <th>chamado_date</th>\n",
              "      <th>canal_chamado</th>\n",
              "      <th>time_seg</th>\n",
              "      <th>missed</th>\n",
              "      <th>pesquisa</th>\n",
              "      <th>assunto</th>\n",
              "    </tr>\n",
              "  </thead>\n",
              "  <tbody>\n",
              "    <tr>\n",
              "      <th>0</th>\n",
              "      <td>2020-04-18</td>\n",
              "      <td>Feira de Santana</td>\n",
              "      <td>BA</td>\n",
              "      <td>T1</td>\n",
              "      <td>NaT</td>\n",
              "      <td>NaN</td>\n",
              "      <td>NaN</td>\n",
              "      <td>NaN</td>\n",
              "      <td>NaN</td>\n",
              "      <td>NaN</td>\n",
              "    </tr>\n",
              "    <tr>\n",
              "      <th>1</th>\n",
              "      <td>2020-10-16</td>\n",
              "      <td>Bacuri</td>\n",
              "      <td>MA</td>\n",
              "      <td>T1</td>\n",
              "      <td>NaT</td>\n",
              "      <td>NaN</td>\n",
              "      <td>NaN</td>\n",
              "      <td>NaN</td>\n",
              "      <td>NaN</td>\n",
              "      <td>NaN</td>\n",
              "    </tr>\n",
              "    <tr>\n",
              "      <th>2</th>\n",
              "      <td>2020-09-01</td>\n",
              "      <td>Bernardo Sayão</td>\n",
              "      <td>TO</td>\n",
              "      <td>T1</td>\n",
              "      <td>NaT</td>\n",
              "      <td>NaN</td>\n",
              "      <td>NaN</td>\n",
              "      <td>NaN</td>\n",
              "      <td>NaN</td>\n",
              "      <td>NaN</td>\n",
              "    </tr>\n",
              "    <tr>\n",
              "      <th>3</th>\n",
              "      <td>2020-08-29</td>\n",
              "      <td>Rio de Janeiro</td>\n",
              "      <td>RJ</td>\n",
              "      <td>T3</td>\n",
              "      <td>NaT</td>\n",
              "      <td>NaN</td>\n",
              "      <td>NaN</td>\n",
              "      <td>NaN</td>\n",
              "      <td>NaN</td>\n",
              "      <td>NaN</td>\n",
              "    </tr>\n",
              "    <tr>\n",
              "      <th>4</th>\n",
              "      <td>2020-07-28</td>\n",
              "      <td>São Gonçalo</td>\n",
              "      <td>RJ</td>\n",
              "      <td>T3</td>\n",
              "      <td>2020-07-31</td>\n",
              "      <td>2.0</td>\n",
              "      <td>15.0</td>\n",
              "      <td>False</td>\n",
              "      <td>NaN</td>\n",
              "      <td>Aplicativo:Dúvidas funcionalidades App:Primeir...</td>\n",
              "    </tr>\n",
              "    <tr>\n",
              "      <th>5</th>\n",
              "      <td>2020-07-28</td>\n",
              "      <td>São Gonçalo</td>\n",
              "      <td>RJ</td>\n",
              "      <td>T3</td>\n",
              "      <td>2020-07-31</td>\n",
              "      <td>2.0</td>\n",
              "      <td>15.0</td>\n",
              "      <td>False</td>\n",
              "      <td>NaN</td>\n",
              "      <td>Produto:S920:Ativação</td>\n",
              "    </tr>\n",
              "    <tr>\n",
              "      <th>6</th>\n",
              "      <td>2020-07-28</td>\n",
              "      <td>São Gonçalo</td>\n",
              "      <td>RJ</td>\n",
              "      <td>T3</td>\n",
              "      <td>2020-09-23</td>\n",
              "      <td>2.0</td>\n",
              "      <td>1.0</td>\n",
              "      <td>False</td>\n",
              "      <td>NaN</td>\n",
              "      <td>Produto:Cartão pré-pago:Dúvidas</td>\n",
              "    </tr>\n",
              "    <tr>\n",
              "      <th>7</th>\n",
              "      <td>2020-08-28</td>\n",
              "      <td>Itaboraí</td>\n",
              "      <td>RJ</td>\n",
              "      <td>T1</td>\n",
              "      <td>2020-08-29</td>\n",
              "      <td>2.0</td>\n",
              "      <td>6.0</td>\n",
              "      <td>False</td>\n",
              "      <td>NaN</td>\n",
              "      <td>Logística:Envio de Cartão:Tracking</td>\n",
              "    </tr>\n",
              "    <tr>\n",
              "      <th>8</th>\n",
              "      <td>2020-08-28</td>\n",
              "      <td>Itaboraí</td>\n",
              "      <td>RJ</td>\n",
              "      <td>T1</td>\n",
              "      <td>2020-08-29</td>\n",
              "      <td>2.0</td>\n",
              "      <td>6.0</td>\n",
              "      <td>False</td>\n",
              "      <td>NaN</td>\n",
              "      <td>Pedido:Cancelamento:Outros</td>\n",
              "    </tr>\n",
              "    <tr>\n",
              "      <th>9</th>\n",
              "      <td>2020-08-28</td>\n",
              "      <td>Itaboraí</td>\n",
              "      <td>RJ</td>\n",
              "      <td>T1</td>\n",
              "      <td>2020-08-29</td>\n",
              "      <td>2.0</td>\n",
              "      <td>6.0</td>\n",
              "      <td>False</td>\n",
              "      <td>NaN</td>\n",
              "      <td>Produto:Cartão pré-pago:Dúvidas</td>\n",
              "    </tr>\n",
              "  </tbody>\n",
              "</table>\n",
              "</div>"
            ],
            "text/plain": [
              "    cred_date  ...                                            assunto\n",
              "0  2020-04-18  ...                                                NaN\n",
              "1  2020-10-16  ...                                                NaN\n",
              "2  2020-09-01  ...                                                NaN\n",
              "3  2020-08-29  ...                                                NaN\n",
              "4  2020-07-28  ...  Aplicativo:Dúvidas funcionalidades App:Primeir...\n",
              "5  2020-07-28  ...                              Produto:S920:Ativação\n",
              "6  2020-07-28  ...                    Produto:Cartão pré-pago:Dúvidas\n",
              "7  2020-08-28  ...                 Logística:Envio de Cartão:Tracking\n",
              "8  2020-08-28  ...                         Pedido:Cancelamento:Outros\n",
              "9  2020-08-28  ...                    Produto:Cartão pré-pago:Dúvidas\n",
              "\n",
              "[10 rows x 10 columns]"
            ]
          },
          "metadata": {
            "tags": []
          },
          "execution_count": 209
        }
      ]
    },
    {
      "cell_type": "code",
      "metadata": {
        "colab": {
          "base_uri": "https://localhost:8080/"
        },
        "id": "aJ3yCv_VIZaS",
        "outputId": "72bf6dfa-6a3f-4296-daa2-329b5ef66bc4"
      },
      "source": [
        "#Explorando dados\r\n",
        "dataframe[\"pesquisa\"].value_counts()"
      ],
      "execution_count": 210,
      "outputs": [
        {
          "output_type": "execute_result",
          "data": {
            "text/plain": [
              "Enviado        9996\n",
              "Incrivel        899\n",
              "Bom             425\n",
              "Normal          112\n",
              "NaoResolveu     107\n",
              "Feliz            19\n",
              "MalAtendido      16\n",
              "Triste            6\n",
              "Pessimo           3\n",
              "Cansativo         2\n",
              "Name: pesquisa, dtype: int64"
            ]
          },
          "metadata": {
            "tags": []
          },
          "execution_count": 210
        }
      ]
    },
    {
      "cell_type": "code",
      "metadata": {
        "colab": {
          "base_uri": "https://localhost:8080/"
        },
        "id": "kEetCH8APsQt",
        "outputId": "2bab9a7b-22fa-4f44-dde0-a0f427992d61"
      },
      "source": [
        "\r\n",
        "dataframe[\"assunto\"].value_counts()"
      ],
      "execution_count": 211,
      "outputs": [
        {
          "output_type": "execute_result",
          "data": {
            "text/plain": [
              "Produto:Cartão pré-pago:Dúvidas                                  5153\n",
              "Logística:OS:Tracking de OS                                      4947\n",
              "Aplicativo:Dúvidas funcionalidades App:Transferência bancária    4243\n",
              "Transferência de saldo:Conta bancária:Problema                   2870\n",
              "Produto:Modelo de recebimento:                                   2488\n",
              "                                                                 ... \n",
              "Feedback do cliente:Cartão:                                         1\n",
              "Aplicativo:Cartões:                                                 1\n",
              "Telecom::                                                           1\n",
              "Logística:Envio de Cartão pré-pago:2 via Stone Mais                 1\n",
              "Produto:mPOS:                                                       1\n",
              "Name: assunto, Length: 221, dtype: int64"
            ]
          },
          "metadata": {
            "tags": []
          },
          "execution_count": 211
        }
      ]
    },
    {
      "cell_type": "markdown",
      "metadata": {
        "id": "27iju1TQTul_"
      },
      "source": [
        "### QUESTÃO 1"
      ]
    },
    {
      "cell_type": "markdown",
      "metadata": {
        "id": "fX4L_19cT5uq"
      },
      "source": [
        "Preciso verificar me baseando nas datas, a quantidade de chamadas.\r\n",
        "\r\n",
        "Fazer um gráfico para visualizar a frequência dessas chamadas mensalmente. \r\n",
        "\r\n"
      ]
    },
    {
      "cell_type": "code",
      "metadata": {
        "id": "sAY3bBR65dd5"
      },
      "source": [
        ""
      ],
      "execution_count": null,
      "outputs": []
    },
    {
      "cell_type": "code",
      "metadata": {
        "colab": {
          "base_uri": "https://localhost:8080/",
          "height": 677
        },
        "id": "VvVoW9cyV-AD",
        "outputId": "ee23932d-329d-427d-8406-abd6153c9f3a"
      },
      "source": [
        "dataframe.head(20)\r\n"
      ],
      "execution_count": 319,
      "outputs": [
        {
          "output_type": "execute_result",
          "data": {
            "text/html": [
              "<div>\n",
              "<style scoped>\n",
              "    .dataframe tbody tr th:only-of-type {\n",
              "        vertical-align: middle;\n",
              "    }\n",
              "\n",
              "    .dataframe tbody tr th {\n",
              "        vertical-align: top;\n",
              "    }\n",
              "\n",
              "    .dataframe thead th {\n",
              "        text-align: right;\n",
              "    }\n",
              "</style>\n",
              "<table border=\"1\" class=\"dataframe\">\n",
              "  <thead>\n",
              "    <tr style=\"text-align: right;\">\n",
              "      <th></th>\n",
              "      <th>cred_date</th>\n",
              "      <th>cidade_entrega</th>\n",
              "      <th>estado_entrega</th>\n",
              "      <th>produto</th>\n",
              "      <th>chamado_date</th>\n",
              "      <th>canal_chamado</th>\n",
              "      <th>time_seg</th>\n",
              "      <th>missed</th>\n",
              "      <th>pesquisa</th>\n",
              "      <th>assunto</th>\n",
              "      <th>chamado_mes</th>\n",
              "      <th>cred_mes</th>\n",
              "    </tr>\n",
              "  </thead>\n",
              "  <tbody>\n",
              "    <tr>\n",
              "      <th>0</th>\n",
              "      <td>2020-04-18</td>\n",
              "      <td>Feira de Santana</td>\n",
              "      <td>BA</td>\n",
              "      <td>T1</td>\n",
              "      <td>NaT</td>\n",
              "      <td>NaN</td>\n",
              "      <td>NaN</td>\n",
              "      <td>NaN</td>\n",
              "      <td>NaN</td>\n",
              "      <td>NaN</td>\n",
              "      <td>NaN</td>\n",
              "      <td>4</td>\n",
              "    </tr>\n",
              "    <tr>\n",
              "      <th>1</th>\n",
              "      <td>2020-10-16</td>\n",
              "      <td>Bacuri</td>\n",
              "      <td>MA</td>\n",
              "      <td>T1</td>\n",
              "      <td>NaT</td>\n",
              "      <td>NaN</td>\n",
              "      <td>NaN</td>\n",
              "      <td>NaN</td>\n",
              "      <td>NaN</td>\n",
              "      <td>NaN</td>\n",
              "      <td>NaN</td>\n",
              "      <td>10</td>\n",
              "    </tr>\n",
              "    <tr>\n",
              "      <th>2</th>\n",
              "      <td>2020-09-01</td>\n",
              "      <td>Bernardo Sayão</td>\n",
              "      <td>TO</td>\n",
              "      <td>T1</td>\n",
              "      <td>NaT</td>\n",
              "      <td>NaN</td>\n",
              "      <td>NaN</td>\n",
              "      <td>NaN</td>\n",
              "      <td>NaN</td>\n",
              "      <td>NaN</td>\n",
              "      <td>NaN</td>\n",
              "      <td>9</td>\n",
              "    </tr>\n",
              "    <tr>\n",
              "      <th>3</th>\n",
              "      <td>2020-08-29</td>\n",
              "      <td>Rio de Janeiro</td>\n",
              "      <td>RJ</td>\n",
              "      <td>T3</td>\n",
              "      <td>NaT</td>\n",
              "      <td>NaN</td>\n",
              "      <td>NaN</td>\n",
              "      <td>NaN</td>\n",
              "      <td>NaN</td>\n",
              "      <td>NaN</td>\n",
              "      <td>NaN</td>\n",
              "      <td>8</td>\n",
              "    </tr>\n",
              "    <tr>\n",
              "      <th>4</th>\n",
              "      <td>2020-07-28</td>\n",
              "      <td>São Gonçalo</td>\n",
              "      <td>RJ</td>\n",
              "      <td>T3</td>\n",
              "      <td>2020-07-31</td>\n",
              "      <td>2.0</td>\n",
              "      <td>15.0</td>\n",
              "      <td>False</td>\n",
              "      <td>NaN</td>\n",
              "      <td>Aplicativo:Dúvidas funcionalidades App:Primeir...</td>\n",
              "      <td>7.0</td>\n",
              "      <td>7</td>\n",
              "    </tr>\n",
              "    <tr>\n",
              "      <th>5</th>\n",
              "      <td>2020-07-28</td>\n",
              "      <td>São Gonçalo</td>\n",
              "      <td>RJ</td>\n",
              "      <td>T3</td>\n",
              "      <td>2020-07-31</td>\n",
              "      <td>2.0</td>\n",
              "      <td>15.0</td>\n",
              "      <td>False</td>\n",
              "      <td>NaN</td>\n",
              "      <td>Produto:S920:Ativação</td>\n",
              "      <td>7.0</td>\n",
              "      <td>7</td>\n",
              "    </tr>\n",
              "    <tr>\n",
              "      <th>6</th>\n",
              "      <td>2020-07-28</td>\n",
              "      <td>São Gonçalo</td>\n",
              "      <td>RJ</td>\n",
              "      <td>T3</td>\n",
              "      <td>2020-09-23</td>\n",
              "      <td>2.0</td>\n",
              "      <td>1.0</td>\n",
              "      <td>False</td>\n",
              "      <td>NaN</td>\n",
              "      <td>Produto:Cartão pré-pago:Dúvidas</td>\n",
              "      <td>9.0</td>\n",
              "      <td>7</td>\n",
              "    </tr>\n",
              "    <tr>\n",
              "      <th>7</th>\n",
              "      <td>2020-08-28</td>\n",
              "      <td>Itaboraí</td>\n",
              "      <td>RJ</td>\n",
              "      <td>T1</td>\n",
              "      <td>2020-08-29</td>\n",
              "      <td>2.0</td>\n",
              "      <td>6.0</td>\n",
              "      <td>False</td>\n",
              "      <td>NaN</td>\n",
              "      <td>Logística:Envio de Cartão:Tracking</td>\n",
              "      <td>8.0</td>\n",
              "      <td>8</td>\n",
              "    </tr>\n",
              "    <tr>\n",
              "      <th>8</th>\n",
              "      <td>2020-08-28</td>\n",
              "      <td>Itaboraí</td>\n",
              "      <td>RJ</td>\n",
              "      <td>T1</td>\n",
              "      <td>2020-08-29</td>\n",
              "      <td>2.0</td>\n",
              "      <td>6.0</td>\n",
              "      <td>False</td>\n",
              "      <td>NaN</td>\n",
              "      <td>Pedido:Cancelamento:Outros</td>\n",
              "      <td>8.0</td>\n",
              "      <td>8</td>\n",
              "    </tr>\n",
              "    <tr>\n",
              "      <th>9</th>\n",
              "      <td>2020-08-28</td>\n",
              "      <td>Itaboraí</td>\n",
              "      <td>RJ</td>\n",
              "      <td>T1</td>\n",
              "      <td>2020-08-29</td>\n",
              "      <td>2.0</td>\n",
              "      <td>6.0</td>\n",
              "      <td>False</td>\n",
              "      <td>NaN</td>\n",
              "      <td>Produto:Cartão pré-pago:Dúvidas</td>\n",
              "      <td>8.0</td>\n",
              "      <td>8</td>\n",
              "    </tr>\n",
              "    <tr>\n",
              "      <th>10</th>\n",
              "      <td>2020-08-28</td>\n",
              "      <td>Itaboraí</td>\n",
              "      <td>RJ</td>\n",
              "      <td>T1</td>\n",
              "      <td>2020-09-05</td>\n",
              "      <td>2.0</td>\n",
              "      <td>10.0</td>\n",
              "      <td>False</td>\n",
              "      <td>NaN</td>\n",
              "      <td>Aplicativo:Dúvidas funcionalidades App:Redefin...</td>\n",
              "      <td>9.0</td>\n",
              "      <td>8</td>\n",
              "    </tr>\n",
              "    <tr>\n",
              "      <th>11</th>\n",
              "      <td>2020-10-28</td>\n",
              "      <td>Biguaçu</td>\n",
              "      <td>SC</td>\n",
              "      <td>T1</td>\n",
              "      <td>NaT</td>\n",
              "      <td>NaN</td>\n",
              "      <td>NaN</td>\n",
              "      <td>NaN</td>\n",
              "      <td>NaN</td>\n",
              "      <td>NaN</td>\n",
              "      <td>NaN</td>\n",
              "      <td>10</td>\n",
              "    </tr>\n",
              "    <tr>\n",
              "      <th>12</th>\n",
              "      <td>2020-10-27</td>\n",
              "      <td>Contagem</td>\n",
              "      <td>MG</td>\n",
              "      <td>T1</td>\n",
              "      <td>NaT</td>\n",
              "      <td>NaN</td>\n",
              "      <td>NaN</td>\n",
              "      <td>NaN</td>\n",
              "      <td>NaN</td>\n",
              "      <td>NaN</td>\n",
              "      <td>NaN</td>\n",
              "      <td>10</td>\n",
              "    </tr>\n",
              "    <tr>\n",
              "      <th>13</th>\n",
              "      <td>2020-09-01</td>\n",
              "      <td>Videira</td>\n",
              "      <td>SC</td>\n",
              "      <td>T1</td>\n",
              "      <td>NaT</td>\n",
              "      <td>NaN</td>\n",
              "      <td>NaN</td>\n",
              "      <td>NaN</td>\n",
              "      <td>NaN</td>\n",
              "      <td>NaN</td>\n",
              "      <td>NaN</td>\n",
              "      <td>9</td>\n",
              "    </tr>\n",
              "    <tr>\n",
              "      <th>14</th>\n",
              "      <td>2020-09-30</td>\n",
              "      <td>Canela</td>\n",
              "      <td>RS</td>\n",
              "      <td>T1</td>\n",
              "      <td>NaT</td>\n",
              "      <td>NaN</td>\n",
              "      <td>NaN</td>\n",
              "      <td>NaN</td>\n",
              "      <td>NaN</td>\n",
              "      <td>NaN</td>\n",
              "      <td>NaN</td>\n",
              "      <td>9</td>\n",
              "    </tr>\n",
              "    <tr>\n",
              "      <th>15</th>\n",
              "      <td>2020-10-02</td>\n",
              "      <td>Joinville</td>\n",
              "      <td>SC</td>\n",
              "      <td>T1</td>\n",
              "      <td>2020-10-03</td>\n",
              "      <td>2.0</td>\n",
              "      <td>4.0</td>\n",
              "      <td>False</td>\n",
              "      <td>NaN</td>\n",
              "      <td>Aplicativo:Dúvidas funcionalidades App:Prazos ...</td>\n",
              "      <td>10.0</td>\n",
              "      <td>10</td>\n",
              "    </tr>\n",
              "    <tr>\n",
              "      <th>16</th>\n",
              "      <td>2020-10-02</td>\n",
              "      <td>Joinville</td>\n",
              "      <td>SC</td>\n",
              "      <td>T1</td>\n",
              "      <td>2020-10-03</td>\n",
              "      <td>2.0</td>\n",
              "      <td>4.0</td>\n",
              "      <td>False</td>\n",
              "      <td>NaN</td>\n",
              "      <td>Logística:OS:Confirmação/alteração de dados</td>\n",
              "      <td>10.0</td>\n",
              "      <td>10</td>\n",
              "    </tr>\n",
              "    <tr>\n",
              "      <th>17</th>\n",
              "      <td>2020-09-25</td>\n",
              "      <td>Laguna</td>\n",
              "      <td>SC</td>\n",
              "      <td>T1</td>\n",
              "      <td>NaT</td>\n",
              "      <td>NaN</td>\n",
              "      <td>NaN</td>\n",
              "      <td>NaN</td>\n",
              "      <td>NaN</td>\n",
              "      <td>NaN</td>\n",
              "      <td>NaN</td>\n",
              "      <td>9</td>\n",
              "    </tr>\n",
              "    <tr>\n",
              "      <th>18</th>\n",
              "      <td>2019-08-31</td>\n",
              "      <td>Rio de Janeiro</td>\n",
              "      <td>RJ</td>\n",
              "      <td>T1</td>\n",
              "      <td>NaT</td>\n",
              "      <td>NaN</td>\n",
              "      <td>NaN</td>\n",
              "      <td>NaN</td>\n",
              "      <td>NaN</td>\n",
              "      <td>NaN</td>\n",
              "      <td>NaN</td>\n",
              "      <td>8</td>\n",
              "    </tr>\n",
              "    <tr>\n",
              "      <th>19</th>\n",
              "      <td>2020-05-17</td>\n",
              "      <td>Belo Horizonte</td>\n",
              "      <td>MG</td>\n",
              "      <td>T3</td>\n",
              "      <td>NaT</td>\n",
              "      <td>NaN</td>\n",
              "      <td>NaN</td>\n",
              "      <td>NaN</td>\n",
              "      <td>NaN</td>\n",
              "      <td>NaN</td>\n",
              "      <td>NaN</td>\n",
              "      <td>5</td>\n",
              "    </tr>\n",
              "  </tbody>\n",
              "</table>\n",
              "</div>"
            ],
            "text/plain": [
              "    cred_date    cidade_entrega  ... chamado_mes cred_mes\n",
              "0  2020-04-18  Feira de Santana  ...         NaN        4\n",
              "1  2020-10-16            Bacuri  ...         NaN       10\n",
              "2  2020-09-01    Bernardo Sayão  ...         NaN        9\n",
              "3  2020-08-29    Rio de Janeiro  ...         NaN        8\n",
              "4  2020-07-28       São Gonçalo  ...         7.0        7\n",
              "5  2020-07-28       São Gonçalo  ...         7.0        7\n",
              "6  2020-07-28       São Gonçalo  ...         9.0        7\n",
              "7  2020-08-28          Itaboraí  ...         8.0        8\n",
              "8  2020-08-28          Itaboraí  ...         8.0        8\n",
              "9  2020-08-28          Itaboraí  ...         8.0        8\n",
              "10 2020-08-28          Itaboraí  ...         9.0        8\n",
              "11 2020-10-28           Biguaçu  ...         NaN       10\n",
              "12 2020-10-27          Contagem  ...         NaN       10\n",
              "13 2020-09-01           Videira  ...         NaN        9\n",
              "14 2020-09-30            Canela  ...         NaN        9\n",
              "15 2020-10-02         Joinville  ...        10.0       10\n",
              "16 2020-10-02         Joinville  ...        10.0       10\n",
              "17 2020-09-25            Laguna  ...         NaN        9\n",
              "18 2019-08-31    Rio de Janeiro  ...         NaN        8\n",
              "19 2020-05-17    Belo Horizonte  ...         NaN        5\n",
              "\n",
              "[20 rows x 12 columns]"
            ]
          },
          "metadata": {
            "tags": []
          },
          "execution_count": 319
        }
      ]
    },
    {
      "cell_type": "code",
      "metadata": {
        "id": "EJ3y85sqTzy6"
      },
      "source": [
        "#########agupamento_mes = dataframe.groupby(dataframe[\"chamado_date\"].dt.year)[\"estado_entrega\"]"
      ],
      "execution_count": 320,
      "outputs": []
    },
    {
      "cell_type": "code",
      "metadata": {
        "id": "hCleZWtjXFGE"
      },
      "source": [
        "#criando coluna para o mês\r\n",
        "dataframe[\"chamado_mes\"] = dataframe['chamado_date'].dt.month\r\n",
        "dataframe[\"cred_mes\"] = dataframe['cred_date'].dt.month"
      ],
      "execution_count": 321,
      "outputs": []
    },
    {
      "cell_type": "code",
      "metadata": {
        "colab": {
          "base_uri": "https://localhost:8080/",
          "height": 81
        },
        "id": "x6SpSb_6XLWD",
        "outputId": "e6ebd1bd-0d12-437e-a170-3534f7826f3c"
      },
      "source": [
        "dataframe.head(1)"
      ],
      "execution_count": 322,
      "outputs": [
        {
          "output_type": "execute_result",
          "data": {
            "text/html": [
              "<div>\n",
              "<style scoped>\n",
              "    .dataframe tbody tr th:only-of-type {\n",
              "        vertical-align: middle;\n",
              "    }\n",
              "\n",
              "    .dataframe tbody tr th {\n",
              "        vertical-align: top;\n",
              "    }\n",
              "\n",
              "    .dataframe thead th {\n",
              "        text-align: right;\n",
              "    }\n",
              "</style>\n",
              "<table border=\"1\" class=\"dataframe\">\n",
              "  <thead>\n",
              "    <tr style=\"text-align: right;\">\n",
              "      <th></th>\n",
              "      <th>cred_date</th>\n",
              "      <th>cidade_entrega</th>\n",
              "      <th>estado_entrega</th>\n",
              "      <th>produto</th>\n",
              "      <th>chamado_date</th>\n",
              "      <th>canal_chamado</th>\n",
              "      <th>time_seg</th>\n",
              "      <th>missed</th>\n",
              "      <th>pesquisa</th>\n",
              "      <th>assunto</th>\n",
              "      <th>chamado_mes</th>\n",
              "      <th>cred_mes</th>\n",
              "    </tr>\n",
              "  </thead>\n",
              "  <tbody>\n",
              "    <tr>\n",
              "      <th>0</th>\n",
              "      <td>2020-04-18</td>\n",
              "      <td>Feira de Santana</td>\n",
              "      <td>BA</td>\n",
              "      <td>T1</td>\n",
              "      <td>NaT</td>\n",
              "      <td>NaN</td>\n",
              "      <td>NaN</td>\n",
              "      <td>NaN</td>\n",
              "      <td>NaN</td>\n",
              "      <td>NaN</td>\n",
              "      <td>NaN</td>\n",
              "      <td>4</td>\n",
              "    </tr>\n",
              "  </tbody>\n",
              "</table>\n",
              "</div>"
            ],
            "text/plain": [
              "   cred_date    cidade_entrega estado_entrega  ... assunto chamado_mes  cred_mes\n",
              "0 2020-04-18  Feira de Santana             BA  ...     NaN         NaN         4\n",
              "\n",
              "[1 rows x 12 columns]"
            ]
          },
          "metadata": {
            "tags": []
          },
          "execution_count": 322
        }
      ]
    },
    {
      "cell_type": "code",
      "metadata": {
        "colab": {
          "base_uri": "https://localhost:8080/"
        },
        "id": "Tiue3xw7aM1r",
        "outputId": "a8fcb0f1-ab19-4e22-b503-d8064e6ecd4e"
      },
      "source": [
        "#total de chamadas\r\n",
        "dataframe[\"missed\"].count()"
      ],
      "execution_count": 323,
      "outputs": [
        {
          "output_type": "execute_result",
          "data": {
            "text/plain": [
              "77489"
            ]
          },
          "metadata": {
            "tags": []
          },
          "execution_count": 323
        }
      ]
    },
    {
      "cell_type": "code",
      "metadata": {
        "id": "A11rX-TAbhnK"
      },
      "source": [
        "chamado_mes = dataframe['chamado_mes'].value_counts().index\r\n",
        "\r\n",
        "chamado_qtd = dataframe['chamado_mes'].value_counts()"
      ],
      "execution_count": 324,
      "outputs": []
    },
    {
      "cell_type": "code",
      "metadata": {
        "colab": {
          "base_uri": "https://localhost:8080/",
          "height": 284
        },
        "id": "kIi5HSJGaT8K",
        "outputId": "0257ea88-7b7b-4c62-948b-7e6e9e305191"
      },
      "source": [
        "plt.bar(chamado_mes , chamado_qtd, color= \"blue\")"
      ],
      "execution_count": 325,
      "outputs": [
        {
          "output_type": "execute_result",
          "data": {
            "text/plain": [
              "<BarContainer object of 9 artists>"
            ]
          },
          "metadata": {
            "tags": []
          },
          "execution_count": 325
        },
        {
          "output_type": "display_data",
          "data": {
            "image/png": "[encoded data removed]",
            "text/plain": [
              "<Figure size 432x288 with 1 Axes>"
            ]
          },
          "metadata": {
            "tags": [],
            "needs_background": "light"
          }
        }
      ]
    },
    {
      "cell_type": "code",
      "metadata": {
        "colab": {
          "base_uri": "https://localhost:8080/"
        },
        "id": "kbvmX4RgcRH6",
        "outputId": "d8534568-8acd-4dfb-c3ff-f7ce22255822"
      },
      "source": [
        "dataframe['chamado_mes'].value_counts()"
      ],
      "execution_count": 326,
      "outputs": [
        {
          "output_type": "execute_result",
          "data": {
            "text/plain": [
              "9.0     17381\n",
              "10.0    15391\n",
              "7.0     15318\n",
              "8.0     14305\n",
              "6.0      8587\n",
              "5.0      3978\n",
              "4.0      1730\n",
              "3.0       708\n",
              "2.0        91\n",
              "Name: chamado_mes, dtype: int64"
            ]
          },
          "metadata": {
            "tags": []
          },
          "execution_count": 326
        }
      ]
    },
    {
      "cell_type": "code",
      "metadata": {
        "id": "ZNx0xQeXiNT0"
      },
      "source": [
        "chamado_qtd = chamado_qtd.values"
      ],
      "execution_count": 327,
      "outputs": []
    },
    {
      "cell_type": "code",
      "metadata": {
        "colab": {
          "base_uri": "https://localhost:8080/"
        },
        "id": "lMTTvo25ldvn",
        "outputId": "90aff929-5041-421c-a028-0cfefdb81709"
      },
      "source": [
        "708/91\r\n"
      ],
      "execution_count": 328,
      "outputs": [
        {
          "output_type": "execute_result",
          "data": {
            "text/plain": [
              "7.78021978021978"
            ]
          },
          "metadata": {
            "tags": []
          },
          "execution_count": 328
        }
      ]
    },
    {
      "cell_type": "code",
      "metadata": {
        "colab": {
          "base_uri": "https://localhost:8080/"
        },
        "id": "uaWaFrJClTnw",
        "outputId": "fb0e8f9c-be20-4770-f362-d40670922c09"
      },
      "source": [
        "1730/708"
      ],
      "execution_count": 329,
      "outputs": [
        {
          "output_type": "execute_result",
          "data": {
            "text/plain": [
              "2.443502824858757"
            ]
          },
          "metadata": {
            "tags": []
          },
          "execution_count": 329
        }
      ]
    },
    {
      "cell_type": "code",
      "metadata": {
        "colab": {
          "base_uri": "https://localhost:8080/"
        },
        "id": "jp3pMvSJl7Bp",
        "outputId": "fc4ab555-6354-4538-d23c-33b7c5edd532"
      },
      "source": [
        "3978/1730"
      ],
      "execution_count": 330,
      "outputs": [
        {
          "output_type": "execute_result",
          "data": {
            "text/plain": [
              "2.299421965317919"
            ]
          },
          "metadata": {
            "tags": []
          },
          "execution_count": 330
        }
      ]
    },
    {
      "cell_type": "code",
      "metadata": {
        "colab": {
          "base_uri": "https://localhost:8080/"
        },
        "id": "pLPZEONoo72h",
        "outputId": "0956beca-7574-4318-b4d3-9c0409c73b71"
      },
      "source": [
        "8587/3978"
      ],
      "execution_count": 331,
      "outputs": [
        {
          "output_type": "execute_result",
          "data": {
            "text/plain": [
              "2.1586224233283056"
            ]
          },
          "metadata": {
            "tags": []
          },
          "execution_count": 331
        }
      ]
    },
    {
      "cell_type": "code",
      "metadata": {
        "colab": {
          "base_uri": "https://localhost:8080/"
        },
        "id": "JIQYIl_2pKO5",
        "outputId": "d8428c53-2b7d-4f90-9844-631fc28ac70a"
      },
      "source": [
        "# \r\n",
        "15318/8587"
      ],
      "execution_count": 332,
      "outputs": [
        {
          "output_type": "execute_result",
          "data": {
            "text/plain": [
              "1.7838593222312797"
            ]
          },
          "metadata": {
            "tags": []
          },
          "execution_count": 332
        }
      ]
    },
    {
      "cell_type": "code",
      "metadata": {
        "colab": {
          "base_uri": "https://localhost:8080/"
        },
        "id": "4J81ymzupP_h",
        "outputId": "55d35b9e-1186-49ee-9aae-16f729afcb36"
      },
      "source": [
        "14305/15318"
      ],
      "execution_count": 333,
      "outputs": [
        {
          "output_type": "execute_result",
          "data": {
            "text/plain": [
              "0.9338686512599557"
            ]
          },
          "metadata": {
            "tags": []
          },
          "execution_count": 333
        }
      ]
    },
    {
      "cell_type": "code",
      "metadata": {
        "colab": {
          "base_uri": "https://localhost:8080/"
        },
        "id": "7xxObwvXpVvB",
        "outputId": "ba64d98f-e5a4-4249-adde-ac8379b7b2aa"
      },
      "source": [
        "15391/14305  "
      ],
      "execution_count": 334,
      "outputs": [
        {
          "output_type": "execute_result",
          "data": {
            "text/plain": [
              "1.0759175113596644"
            ]
          },
          "metadata": {
            "tags": []
          },
          "execution_count": 334
        }
      ]
    },
    {
      "cell_type": "code",
      "metadata": {
        "colab": {
          "base_uri": "https://localhost:8080/"
        },
        "id": "MW401JcVpW8J",
        "outputId": "38054e08-b876-41b5-9efb-5748888ba6c2"
      },
      "source": [
        "15391/17381"
      ],
      "execution_count": 335,
      "outputs": [
        {
          "output_type": "execute_result",
          "data": {
            "text/plain": [
              "0.885507162994074"
            ]
          },
          "metadata": {
            "tags": []
          },
          "execution_count": 335
        }
      ]
    },
    {
      "cell_type": "markdown",
      "metadata": {
        "id": "SldFgHkkf0Kp"
      },
      "source": [
        "O mês de agosto teve uma queda de 1013 chamadOs, isso equivale a uma reduç]ao de 6% considerando os chamados do mês anterior. Observa-se que volta a subir em Setembo mas obtem mais uma redução em outubro. \r\n",
        "Podemos considerar também a taxa em que as chamadas no mêses anteriores de implementação da nova funcionalidade cresciam, poodendo afirmar um impacto estátisticamente relevante.  Isolei o mês 2 do calculo pq ele diverge muito do aumentos mèdios dos outros meses. Caculei, a média de aumento mensal até antes da implantação que era de 200%, e após a implantação teve uma redução significativa. "
      ]
    },
    {
      "cell_type": "code",
      "metadata": {
        "id": "1PxIfuLFtaO0"
      },
      "source": [
        ""
      ],
      "execution_count": 335,
      "outputs": []
    },
    {
      "cell_type": "markdown",
      "metadata": {
        "id": "2_NuWb8tta2-"
      },
      "source": [
        "### QUESTÃO 2"
      ]
    },
    {
      "cell_type": "code",
      "metadata": {
        "id": "-jcklhScaA2a"
      },
      "source": [
        ""
      ],
      "execution_count": null,
      "outputs": []
    }
  ]
}